{
 "cells": [
  {
   "attachments": {},
   "cell_type": "markdown",
   "metadata": {},
   "source": [
    "## An introduction to Lambda functions\n",
    "\n",
    "This is the notebook to follow the article on Medium.\n",
    "\n",
    "The following are the answers the questions at the bottom of the article:\n"
   ]
  },
  {
   "cell_type": "code",
   "execution_count": 8,
   "metadata": {},
   "outputs": [],
   "source": [
    "# 1) What is a Lambda function\n",
    "\n",
    "# A lambda function in Python is a small anonymous function defined with the `lambda` keyword. It can take any number of arguments, but it can only have one expression."
   ]
  },
  {
   "cell_type": "code",
   "execution_count": 9,
   "metadata": {},
   "outputs": [
    {
     "name": "stdout",
     "output_type": "stream",
     "text": [
      "9\n"
     ]
    }
   ],
   "source": [
    "# 2)  Write a lambda function that returns the square of a number.\n",
    "square = (lambda x: x**2)(3)\n",
    "print(square)"
   ]
  },
  {
   "cell_type": "code",
   "execution_count": 10,
   "metadata": {},
   "outputs": [],
   "source": [
    "# 3) How many expressions can a lambda function contain?\n",
    "\n",
    "# A lambda function can only contain one expression."
   ]
  },
  {
   "cell_type": "code",
   "execution_count": 6,
   "metadata": {},
   "outputs": [
    {
     "data": {
      "text/plain": [
       "4"
      ]
     },
     "execution_count": 6,
     "metadata": {},
     "output_type": "execute_result"
    }
   ],
   "source": [
    "# 4) Write a lambda function that adds two numbers.\n",
    "\n",
    "adds = (lambda x,y: x+y)(1,3)\n",
    "print(adds)"
   ]
  },
  {
   "cell_type": "code",
   "execution_count": 11,
   "metadata": {},
   "outputs": [],
   "source": [
    "# 5) How do you call a lambda function?\n",
    "\n",
    "# A lambda function can be called like any regular function. If it's assigned to a variable, you can call it using that variable name e.g., `sq(5)`."
   ]
  },
  {
   "cell_type": "code",
   "execution_count": 16,
   "metadata": {},
   "outputs": [
    {
     "name": "stdout",
     "output_type": "stream",
     "text": [
      "looc era snoitcnuf adbmal\n"
     ]
    }
   ],
   "source": [
    "# 6) Write a lambda function that takes a string input and returns the same string reversed.\n",
    "\n",
    "reversed_string = (lambda x: x[::-1])('lambda functions are cool')\n",
    "print(reversed_string)"
   ]
  },
  {
   "cell_type": "code",
   "execution_count": 1,
   "metadata": {},
   "outputs": [
    {
     "name": "stdout",
     "output_type": "stream",
     "text": [
      "9\n"
     ]
    }
   ],
   "source": [
    "# 7) Write a lambda function that returns the maximum of three given numbers\n",
    "\n",
    "lst = [2,5,9]\n",
    "\n",
    "max_number = (lambda x: max(x))(lst)\n",
    "print(max_number)"
   ]
  },
  {
   "cell_type": "code",
   "execution_count": 2,
   "metadata": {},
   "outputs": [],
   "source": [
    "# 8) What's the difference between a regular Python function and a lambda function?\n",
    "\n",
    "# Regular functions are defined using the `def` keyword, they have a name and can contain multiple expressions. Lambda functions, on the other hand, are anonymous (they don't have a name) and can only contain one expression."
   ]
  },
  {
   "cell_type": "code",
   "execution_count": 5,
   "metadata": {},
   "outputs": [
    {
     "name": "stdout",
     "output_type": "stream",
     "text": [
      "7\n"
     ]
    }
   ],
   "source": [
    "# 9) Can a lambda function have default argument values? Demonstrate with a function that adds 5 to a given number, with the given number defaulting to 2.\n",
    "\n",
    "add_five = lambda x=2: x + 5\n",
    "print(add_five())\n"
   ]
  },
  {
   "cell_type": "code",
   "execution_count": 8,
   "metadata": {},
   "outputs": [
    {
     "name": "stdout",
     "output_type": "stream",
     "text": [
      "True\n"
     ]
    }
   ],
   "source": [
    "# 10) Write a lambda function that checks if a given string starts with a given letter.\n",
    "\n",
    "string = 'I am a string'\n",
    "\n",
    "starts_with = lambda s, c: s[0] == c\n",
    "print(starts_with(string, 'I'))"
   ]
  },
  {
   "cell_type": "code",
   "execution_count": 9,
   "metadata": {},
   "outputs": [],
   "source": [
    "# 11) Can lambda functions be assigned to variables? If yes, give an example\n",
    "\n",
    "# Yes, eg: square = (lambda x: x**2)"
   ]
  },
  {
   "cell_type": "code",
   "execution_count": 12,
   "metadata": {},
   "outputs": [
    {
     "data": {
      "text/plain": [
       "[2, 4, 6, 8]"
      ]
     },
     "execution_count": 12,
     "metadata": {},
     "output_type": "execute_result"
    }
   ],
   "source": [
    "# 12) Write a lambda function that filters out the odd numbers from a list.\n",
    "\n",
    "number_lst = [1,2,3,4,5,6,7,8,9]\n",
    "\n",
    "(lambda lst: list(filter(lambda x: x%2 == 0, lst)))(number_lst)\n"
   ]
  },
  {
   "cell_type": "code",
   "execution_count": 15,
   "metadata": {},
   "outputs": [
    {
     "name": "stdout",
     "output_type": "stream",
     "text": [
      "[0, 1, 4, 9, 16, 25, 36, 49, 64, 81]\n"
     ]
    }
   ],
   "source": [
    "# 13) Can a lambda function be used inside a list comprehension? Provide an example.\n",
    "\n",
    "# Yes, first create the Lambda function and then put it into a list comprehension\n",
    "\n",
    "squared_values = [(lambda x: x**2)(x) for x in range(10)]\n",
    "print(squared_values)"
   ]
  },
  {
   "cell_type": "code",
   "execution_count": 18,
   "metadata": {},
   "outputs": [
    {
     "data": {
      "text/plain": [
       "[2, 4, 6, 8]"
      ]
     },
     "execution_count": 18,
     "metadata": {},
     "output_type": "execute_result"
    }
   ],
   "source": [
    "# 14) Demonstrate how a lambda function can be used with the `map()` function to square all numbers in a list.\n",
    "\n",
    "lst = [1,2,3,4]\n",
    "\n",
    "list(map(lambda x: x*2, lst))"
   ]
  },
  {
   "cell_type": "code",
   "execution_count": 19,
   "metadata": {},
   "outputs": [],
   "source": [
    "# 15) Can a lambda function call itself recursively? Why or why not?\n",
    "\n",
    "# Can a lambda function call itself recursively? Why or why not?"
   ]
  },
  {
   "cell_type": "code",
   "execution_count": 22,
   "metadata": {},
   "outputs": [
    {
     "name": "stdout",
     "output_type": "stream",
     "text": [
      "['banana', 'apple', 'date', 'cherry', 'elderberry']\n"
     ]
    }
   ],
   "source": [
    "# 16) Show how to use a lambda function as a key argument in the `sorted()` function to sort a list of strings by the last letter.\n",
    "\n",
    "words = [\"apple\", \"banana\", \"cherry\", \"date\", \"elderberry\"]\n",
    "\n",
    "sort_by_last_letter = lambda lst: sorted(lst, key=lambda s: s[-1])\n",
    "print(sort_by_last_letter(words))"
   ]
  },
  {
   "cell_type": "code",
   "execution_count": 27,
   "metadata": {},
   "outputs": [
    {
     "data": {
      "text/plain": [
       "[2, 4]"
      ]
     },
     "execution_count": 27,
     "metadata": {},
     "output_type": "execute_result"
    }
   ],
   "source": [
    "# 17) Write a lambda function that returns a list of numbers that are divisible by a given number from a list of numbers.\n",
    "\n",
    "list_no = [1,2,3,4,5]\n",
    "\n",
    "divisible_by_n = lambda lst, n: list(filter(lambda x: x%n == 0, lst))\n",
    "divisible_by_n(list_no, 2)"
   ]
  },
  {
   "cell_type": "code",
   "execution_count": 29,
   "metadata": {},
   "outputs": [
    {
     "name": "stdout",
     "output_type": "stream",
     "text": [
      "24\n"
     ]
    }
   ],
   "source": [
    "# 18) Explain how a lambda function could be used with Python's `reduce()` function.\n",
    "\n",
    "# `reduce()` is a function that applies a specified function to all of its arguments. In Python, a lambda function could be used with the `reduce()` function to apply a function to all elements of a list. For example, to get the product of all numbers in a list: \n",
    "\n",
    "from functools import reduce\n",
    "\n",
    "product = reduce((lambda x, y: x * y), [1, 2, 3, 4])\n",
    "print(product)"
   ]
  },
  {
   "cell_type": "code",
   "execution_count": 30,
   "metadata": {},
   "outputs": [
    {
     "data": {
      "text/plain": [
       "[6, 7, 8, 9]"
      ]
     },
     "execution_count": 30,
     "metadata": {},
     "output_type": "execute_result"
    }
   ],
   "source": [
    "# 19) Demonstrate how a lambda function can be used in a Python `filter()` function to filter out elements of a list great than 5\n",
    "\n",
    "lst = [1,2,3,5,6,7,8,9,]\n",
    "\n",
    "filter_greater_than_five = lambda lst: list(filter(lambda x: x > 5, lst))\n",
    "filter_greater_than_five(lst)"
   ]
  },
  {
   "cell_type": "code",
   "execution_count": 32,
   "metadata": {},
   "outputs": [
    {
     "name": "stdout",
     "output_type": "stream",
     "text": [
      "[1, 2, 3, 4, 10]\n"
     ]
    }
   ],
   "source": [
    "# 20) Can a lambda function have side effects? Why or why not?\n",
    "\n",
    "#Yes, a lambda function can have side effects if it modifies a mutable object, such as a list or a dictionary, that exists outside of its scope. However, it's generally not recommended to rely on side effects in lambda functions. Here is an example:\n",
    "\n",
    "numbers = [1, 2, 3, 4]\n",
    "multiply_by_two = lambda x: numbers.append(x * 2)\n",
    "\n",
    "multiply_by_two(5)\n",
    "print(numbers)"
   ]
  },
  {
   "cell_type": "code",
   "execution_count": null,
   "metadata": {},
   "outputs": [],
   "source": []
  }
 ],
 "metadata": {
  "kernelspec": {
   "display_name": "tf_39",
   "language": "python",
   "name": "python3"
  },
  "language_info": {
   "codemirror_mode": {
    "name": "ipython",
    "version": 3
   },
   "file_extension": ".py",
   "mimetype": "text/x-python",
   "name": "python",
   "nbconvert_exporter": "python",
   "pygments_lexer": "ipython3",
   "version": "3.9.13"
  },
  "orig_nbformat": 4
 },
 "nbformat": 4,
 "nbformat_minor": 2
}
