{
 "cells": [
  {
   "attachments": {},
   "cell_type": "markdown",
   "metadata": {},
   "source": [
    "# Hypothesis testing\n",
    "\n",
    "This is the notebook matching the article from Medium"
   ]
  },
  {
   "cell_type": "code",
   "execution_count": 4,
   "metadata": {},
   "outputs": [
    {
     "name": "stdout",
     "output_type": "stream",
     "text": [
      "T-statistic:  -8.257145435755701\n",
      "p-value:  7.747297408014286e-11\n"
     ]
    }
   ],
   "source": [
    "# Importing necessary libraries\n",
    "import numpy as np\n",
    "from scipy.stats import ttest_1samp\n",
    "\n",
    "# Let's assume that we have a sample data from an experiment\n",
    "data_sample = np.random.normal(loc=15, scale=5, size=50)\n",
    "\n",
    "# We hypothesize that the population mean is 20\n",
    "pop_mean = 20\n",
    "\n",
    "# Perform one-sample t-test\n",
    "t_statistic, p_value = ttest_1samp(data_sample, pop_mean)\n",
    "\n",
    "print(\"T-statistic: \", t_statistic)\n",
    "print(\"p-value: \", p_value)\n",
    "\n"
   ]
  },
  {
   "attachments": {},
   "cell_type": "markdown",
   "metadata": {},
   "source": [
    "## T-test"
   ]
  },
  {
   "cell_type": "code",
   "execution_count": 5,
   "metadata": {},
   "outputs": [
    {
     "name": "stdout",
     "output_type": "stream",
     "text": [
      "T-statistic:  -5.453678517395461\n",
      "p-value:  3.698411563937544e-07\n"
     ]
    }
   ],
   "source": [
    "# Import necessary libraries\n",
    "from scipy.stats import ttest_ind\n",
    "\n",
    "# Assume we have data_samples from two different experiments\n",
    "data_sample1 = np.random.normal(loc=15, scale=5, size=50)\n",
    "data_sample2 = np.random.normal(loc=20, scale=5, size=50)\n",
    "\n",
    "# Perform two-sample t-test\n",
    "t_statistic, p_value = ttest_ind(data_sample1, data_sample2)\n",
    "\n",
    "print(\"T-statistic: \", t_statistic)\n",
    "print(\"p-value: \", p_value)\n"
   ]
  },
  {
   "attachments": {},
   "cell_type": "markdown",
   "metadata": {},
   "source": [
    "## F-test"
   ]
  },
  {
   "cell_type": "code",
   "execution_count": 6,
   "metadata": {},
   "outputs": [
    {
     "name": "stdout",
     "output_type": "stream",
     "text": [
      "F-statistic:  47.0998288015188\n",
      "p-value:  6.156380980315648e-10\n"
     ]
    }
   ],
   "source": [
    "# Import necessary libraries\n",
    "import scipy.stats as stats\n",
    "\n",
    "# Assume we have data_samples from two different experiments\n",
    "data_sample1 = np.random.normal(loc=15, scale=5, size=50)\n",
    "data_sample2 = np.random.normal(loc=20, scale=5, size=50)\n",
    "\n",
    "# Perform F-test\n",
    "F, p_value = stats.f_oneway(data_sample1, data_sample2)\n",
    "\n",
    "print(\"F-statistic: \", F)\n",
    "print(\"p-value: \", p_value)"
   ]
  },
  {
   "attachments": {},
   "cell_type": "markdown",
   "metadata": {},
   "source": [
    "## Chi-squared test"
   ]
  },
  {
   "cell_type": "code",
   "execution_count": 7,
   "metadata": {},
   "outputs": [
    {
     "name": "stdout",
     "output_type": "stream",
     "text": [
      "Chi-square statistic:  0.0\n",
      "p-value:  1.0\n",
      "Degrees of freedom:  2\n",
      "Expected contingency table: \n",
      " [[10. 20. 30.]\n",
      " [20. 40. 60.]]\n"
     ]
    }
   ],
   "source": [
    "# Import necessary libraries\n",
    "from scipy.stats import chi2_contingency\n",
    "\n",
    "# Assume we have a contingency table from a categorical dataset\n",
    "contingency_table = np.array([[10, 20, 30], [20, 40, 60]])\n",
    "\n",
    "# Perform Chi-squared test\n",
    "chi2, p_value, dof, expected = chi2_contingency(contingency_table)\n",
    "\n",
    "print(\"Chi-square statistic: \", chi2)\n",
    "print(\"p-value: \", p_value)\n",
    "print(\"Degrees of freedom: \", dof)\n",
    "print(\"Expected contingency table: \\n\", expected)"
   ]
  },
  {
   "cell_type": "code",
   "execution_count": null,
   "metadata": {},
   "outputs": [],
   "source": []
  }
 ],
 "metadata": {
  "kernelspec": {
   "display_name": "tf_39",
   "language": "python",
   "name": "python3"
  },
  "language_info": {
   "codemirror_mode": {
    "name": "ipython",
    "version": 3
   },
   "file_extension": ".py",
   "mimetype": "text/x-python",
   "name": "python",
   "nbconvert_exporter": "python",
   "pygments_lexer": "ipython3",
   "version": "3.9.13"
  },
  "orig_nbformat": 4
 },
 "nbformat": 4,
 "nbformat_minor": 2
}
